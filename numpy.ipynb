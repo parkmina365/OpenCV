{
  "nbformat": 4,
  "nbformat_minor": 0,
  "metadata": {
    "colab": {
      "name": "Python 데이터 분석과 이미지 처리_1.ipynb",
      "provenance": [],
      "collapsed_sections": [
        "mteH7_3FNt9K"
      ],
      "toc_visible": true,
      "include_colab_link": true
    },
    "kernelspec": {
      "display_name": "Python 3",
      "name": "python3"
    },
    "language_info": {
      "codemirror_mode": {
        "name": "ipython",
        "version": 3
      },
      "file_extension": ".py",
      "mimetype": "text/x-python",
      "name": "python",
      "nbconvert_exporter": "python",
      "pygments_lexer": "ipython3",
      "version": "3.8.10"
    }
  },
  "cells": [
    {
      "cell_type": "markdown",
      "metadata": {
        "id": "view-in-github",
        "colab_type": "text"
      },
      "source": [
        "<a href=\"https://colab.research.google.com/github/parkmina365/OpenCV/blob/main/numpy.ipynb\" target=\"_parent\"><img src=\"https://colab.research.google.com/assets/colab-badge.svg\" alt=\"Open In Colab\"/></a>"
      ]
    },
    {
      "cell_type": "markdown",
      "metadata": {
        "id": "mteH7_3FNt9K"
      },
      "source": [
        "# Python 데이터 분석과 이미지 처리\n",
        "- 데이터 분석: 데이터를 수집하고, 분류하여 시각적으로 표현하는 과정\n",
        "- 이미지 처리: 특정한 목적에 맞게 이미지를 가공하는 과정"
      ]
    },
    {
      "cell_type": "markdown",
      "metadata": {
        "id": "k1e5wl-Ybh2B"
      },
      "source": [
        "# Numpy"
      ]
    },
    {
      "cell_type": "markdown",
      "metadata": {
        "id": "f4fqEUjMP4zp"
      },
      "source": [
        "## 1강. 행렬의 필요성\n",
        "- 현실 세계의 많은 문제는 행렬을 이용해 쉽게 해결 가능\n",
        "  - 배열(array)도 일종의 행렬\n",
        "  - 데이터가 1개 이상이라면 행렬로 표현\n",
        "- 행렬로 해결할 수 없다면 해결하기 매우 어려운 문제일 가능성\n",
        "- 대부분의 연산은 행렬의 연산으로 표현 가능\n",
        "  - 1차원 배열(벡터), 2차원 배열(행렬), 3차원 이상(텐서)\n",
        "- 행렬이 중요한 이유?\n",
        "  - 컴퓨터의 메모리 구조는 행렬 형태로 표현이 가능함\n",
        "  - 2차원 형태로 표현되는 표 형태의 데이터는 행렬로 표현 될 수 있음\n",
        "  - 이미지도 2차원이므로 행렬로 표현될 수 있음\n",
        "\n"
      ]
    },
    {
      "cell_type": "markdown",
      "metadata": {
        "id": "m_Mke8okS-aV"
      },
      "source": [
        "## 2강. 다양한 파이썬 개발 환경 소개\n",
        "- PyCharm\n",
        "- Colab: OpenCV2\n",
        "- Repl.it"
      ]
    },
    {
      "cell_type": "markdown",
      "metadata": {
        "id": "m2iMuGgWS-YL"
      },
      "source": [
        "## 3강. Numpy의 기본 사용법\n",
        "- Numpy: 다차원 배열을 효과적으로 처리 할 수 있도록 도와주는 도구\n",
        "  - 현실 세계의 다양한 데이터는 배열 형태로 표현 할 수 있음.\n",
        "- 파이썬의 List와 호환되며, List보다 빠르고 강력한 기능 제공\n",
        "- Numpy의 차원\n",
        "  - 1차원 축(행): axis = 0, Vector\n",
        "  - 2차원 축(열): axis = 1, Matrix\n",
        "  - 3차원 축(채널): axis = 2, Tensor(3차원 이상)"
      ]
    },
    {
      "cell_type": "code",
      "metadata": {
        "colab": {
          "base_uri": "https://localhost:8080/",
          "height": 105
        },
        "id": "FJsq7c9DgK3D",
        "outputId": "bbe427e3-8343-45d6-845f-348476ee894b"
      },
      "source": [
        "# List를 Numpy로 바꾸기\n",
        "import numpy as np\n",
        "array = np.array([1,2,3])\n",
        "display([1,2,3], array, array.size, array.dtype, array[2])\n",
        "\n",
        "# array는 size, dtype, index(기존 list와 동일)의 함수 제공"
      ],
      "execution_count": null,
      "outputs": [
        {
          "output_type": "display_data",
          "data": {
            "text/plain": [
              "[1, 2, 3]"
            ]
          },
          "metadata": {}
        },
        {
          "output_type": "display_data",
          "data": {
            "text/plain": [
              "array([1, 2, 3])"
            ]
          },
          "metadata": {}
        },
        {
          "output_type": "display_data",
          "data": {
            "text/plain": [
              "3"
            ]
          },
          "metadata": {}
        },
        {
          "output_type": "display_data",
          "data": {
            "text/plain": [
              "dtype('int64')"
            ]
          },
          "metadata": {}
        },
        {
          "output_type": "display_data",
          "data": {
            "text/plain": [
              "3"
            ]
          },
          "metadata": {}
        }
      ]
    },
    {
      "cell_type": "code",
      "metadata": {
        "colab": {
          "base_uri": "https://localhost:8080/",
          "height": 263
        },
        "id": "9fVMZZtAhRis",
        "outputId": "6ae9d120-bd27-4648-f8c3-28ec124242c9"
      },
      "source": [
        "# Numpy 배열 만들기(초기화하기)\n",
        "display(np.arange(4))\n",
        "display(np.zeros((4,4),dtype=float))\n",
        "display(np.ones((3,3), dtype=str))\n",
        "display(np.random.randint(0,10,(3,3)))  # (0,10)사이 int의 랜덤한 배열\n",
        "display(np.random.normal(0,1,(3,3)))    # 평균0, 표준편차 1인 정규분포의 랜덤한 배열"
      ],
      "execution_count": null,
      "outputs": [
        {
          "output_type": "display_data",
          "data": {
            "text/plain": [
              "array([0, 1, 2, 3])"
            ]
          },
          "metadata": {}
        },
        {
          "output_type": "display_data",
          "data": {
            "text/plain": [
              "array([[0., 0., 0., 0.],\n",
              "       [0., 0., 0., 0.],\n",
              "       [0., 0., 0., 0.],\n",
              "       [0., 0., 0., 0.]])"
            ]
          },
          "metadata": {}
        },
        {
          "output_type": "display_data",
          "data": {
            "text/plain": [
              "array([['1', '1', '1'],\n",
              "       ['1', '1', '1'],\n",
              "       ['1', '1', '1']], dtype='<U1')"
            ]
          },
          "metadata": {}
        },
        {
          "output_type": "display_data",
          "data": {
            "text/plain": [
              "array([[7, 9, 7],\n",
              "       [8, 9, 8],\n",
              "       [7, 6, 4]])"
            ]
          },
          "metadata": {}
        },
        {
          "output_type": "display_data",
          "data": {
            "text/plain": [
              "array([[-0.38108715,  0.83083986,  1.61111963],\n",
              "       [-0.98940129,  1.21104615,  1.07551655],\n",
              "       [ 0.56927178, -0.20413855,  0.88357111]])"
            ]
          },
          "metadata": {}
        }
      ]
    },
    {
      "cell_type": "markdown",
      "metadata": {
        "id": "g35_lL6kiwSA"
      },
      "source": [
        "Numpy의 기본 사용법"
      ]
    },
    {
      "cell_type": "code",
      "metadata": {
        "colab": {
          "base_uri": "https://localhost:8080/",
          "height": 140
        },
        "id": "OHHF07QyipdH",
        "outputId": "4158bf09-2b2a-48c9-e743-949fe270a6cb"
      },
      "source": [
        "# Numpy 배열 합치기: np.concatenate\n",
        "# 1차원\n",
        "display(np.concatenate([np.array([1,2,3]), np.array([4,5,6])]))\n",
        "display(np.concatenate([np.array([1,2,3]), np.array([4,5,6])]).shape)\n",
        "\n",
        "# 2차원\n",
        "display(np.concatenate([np.array([[1,2,3]]), np.array([[4,5,6]])]))\n",
        "display(np.concatenate([np.array([[1,2,3]]), np.array([[4,5,6]])]).shape)\n",
        "\n",
        "display(np.concatenate([np.array([[1,2,3]]), np.array([[4,5,6]])], axis=1))\n",
        "display(np.concatenate([np.array([[1,2,3]]), np.array([[4,5,6]])], axis=1).shape)"
      ],
      "execution_count": null,
      "outputs": [
        {
          "output_type": "display_data",
          "data": {
            "text/plain": [
              "array([1, 2, 3, 4, 5, 6])"
            ]
          },
          "metadata": {}
        },
        {
          "output_type": "display_data",
          "data": {
            "text/plain": [
              "(6,)"
            ]
          },
          "metadata": {}
        },
        {
          "output_type": "display_data",
          "data": {
            "text/plain": [
              "array([[1, 2, 3],\n",
              "       [4, 5, 6]])"
            ]
          },
          "metadata": {}
        },
        {
          "output_type": "display_data",
          "data": {
            "text/plain": [
              "(2, 3)"
            ]
          },
          "metadata": {}
        },
        {
          "output_type": "display_data",
          "data": {
            "text/plain": [
              "array([[1, 2, 3, 4, 5, 6]])"
            ]
          },
          "metadata": {}
        },
        {
          "output_type": "display_data",
          "data": {
            "text/plain": [
              "(1, 6)"
            ]
          },
          "metadata": {}
        }
      ]
    },
    {
      "cell_type": "code",
      "metadata": {
        "colab": {
          "base_uri": "https://localhost:8080/",
          "height": 158
        },
        "id": "8kA_YcNYkRbd",
        "outputId": "e6fd2218-3402-4497-d7fe-faf692b4703a"
      },
      "source": [
        "# Numpy 배열 형태 바꾸기: .reshape\n",
        "display(np.array([1,2,3,4]).reshape(2,2))\n",
        "display(np.array([1,2,3,4]).reshape((2,2)))\n",
        "\n",
        "# np.concatenate, reshape\n",
        "display(np.concatenate([np.arange(4).reshape(1,4), np.arange(8).reshape(2,4)])) # defalut: axis=0(행방향)\n",
        "display(np.concatenate([np.arange(4).reshape(1,4), np.arange(8).reshape(2,4)]).shape)"
      ],
      "execution_count": null,
      "outputs": [
        {
          "output_type": "display_data",
          "data": {
            "text/plain": [
              "array([[1, 2],\n",
              "       [3, 4]])"
            ]
          },
          "metadata": {}
        },
        {
          "output_type": "display_data",
          "data": {
            "text/plain": [
              "array([[1, 2],\n",
              "       [3, 4]])"
            ]
          },
          "metadata": {}
        },
        {
          "output_type": "display_data",
          "data": {
            "text/plain": [
              "array([[0, 1, 2, 3],\n",
              "       [0, 1, 2, 3],\n",
              "       [4, 5, 6, 7]])"
            ]
          },
          "metadata": {}
        },
        {
          "output_type": "display_data",
          "data": {
            "text/plain": [
              "(3, 4)"
            ]
          },
          "metadata": {}
        }
      ]
    },
    {
      "cell_type": "code",
      "metadata": {
        "colab": {
          "base_uri": "https://localhost:8080/",
          "height": 140
        },
        "id": "nzAeqVFFly4_",
        "outputId": "b0c1fada-2dce-4680-ffac-64c89917bfc8"
      },
      "source": [
        "# Numpy 배열 나누기: np.split\n",
        "\n",
        "left, right = np.split(np.arange(8).reshape(2,4), [2], axis=1) # 2번 열 기준으로 두개로 분리\n",
        "display(np.arange(8).reshape(2,4), left, right, right[1][1])"
      ],
      "execution_count": null,
      "outputs": [
        {
          "output_type": "display_data",
          "data": {
            "text/plain": [
              "array([[0, 1, 2, 3],\n",
              "       [4, 5, 6, 7]])"
            ]
          },
          "metadata": {}
        },
        {
          "output_type": "display_data",
          "data": {
            "text/plain": [
              "array([[0, 1],\n",
              "       [4, 5]])"
            ]
          },
          "metadata": {}
        },
        {
          "output_type": "display_data",
          "data": {
            "text/plain": [
              "array([[2, 3],\n",
              "       [6, 7]])"
            ]
          },
          "metadata": {}
        },
        {
          "output_type": "display_data",
          "data": {
            "text/plain": [
              "7"
            ]
          },
          "metadata": {}
        }
      ]
    },
    {
      "cell_type": "markdown",
      "metadata": {
        "id": "mCDAfVC2S-Vr"
      },
      "source": [
        "## 4강. Numpy의 연산과 함수\n",
        "- 상수(스칼라) 연산\n",
        "- 배열간 연산\n",
        "  - 배열의 형태가 같은 경우\n",
        "  - 배열의 형태가 다른 경우\n",
        "- 마스킹 연산: Boolean\n",
        "  - Numpy 원소의 값을 조건에 따라 바꿀 때 사용\n",
        "  - 반복문을 이용할 때보다 매우 빠르게 동작함\n",
        "  - 이미지 처리(Image Processing)에서 자주 활용\n",
        "- 집계 함수\n",
        "  - np.min, np.max, np.sum, np.mean"
      ]
    },
    {
      "cell_type": "code",
      "metadata": {
        "colab": {
          "base_uri": "https://localhost:8080/",
          "height": 52
        },
        "id": "YTdBz01WpiYE",
        "outputId": "ff02dc6b-6114-477f-9680-383ac872f863"
      },
      "source": [
        "# 상수(스칼라) 연산\n",
        "import numpy as np\n",
        "display(np.arange(1,5)+2)\n",
        "display(np.arange(1,5)*2)"
      ],
      "execution_count": null,
      "outputs": [
        {
          "output_type": "display_data",
          "data": {
            "text/plain": [
              "array([3, 4, 5, 6])"
            ]
          },
          "metadata": {}
        },
        {
          "output_type": "display_data",
          "data": {
            "text/plain": [
              "array([2, 4, 6, 8])"
            ]
          },
          "metadata": {}
        }
      ]
    },
    {
      "cell_type": "code",
      "metadata": {
        "colab": {
          "base_uri": "https://localhost:8080/",
          "height": 105
        },
        "id": "NjwbQsiHsnfp",
        "outputId": "46ceef7f-066b-4c20-b14c-f5346563c791"
      },
      "source": [
        "# 서로 다른 형태의 Numpy 연산\n",
        "# 행 우선으로 수행됨\n",
        "\n",
        "display(np.arange(4).reshape(2,2), np.arange(2))\n",
        "np.arange(4).reshape(2,2) + np.arange(2)"
      ],
      "execution_count": null,
      "outputs": [
        {
          "output_type": "display_data",
          "data": {
            "text/plain": [
              "array([[0, 1],\n",
              "       [2, 3]])"
            ]
          },
          "metadata": {}
        },
        {
          "output_type": "display_data",
          "data": {
            "text/plain": [
              "array([0, 1])"
            ]
          },
          "metadata": {}
        },
        {
          "output_type": "execute_result",
          "data": {
            "text/plain": [
              "array([[0, 2],\n",
              "       [2, 4]])"
            ]
          },
          "metadata": {},
          "execution_count": 201
        }
      ]
    },
    {
      "cell_type": "code",
      "metadata": {
        "colab": {
          "base_uri": "https://localhost:8080/"
        },
        "id": "OZQt3UjStqlo",
        "outputId": "54d03449-7d2d-4581-ec1b-f1eadb7cee8c"
      },
      "source": [
        "# 서로 다른 형태의 Numpy 연산\n",
        "# Broadcast: 형태가 다른 배열을 연산할 수 있도록 배열의 형태를 동적으로 변환\n",
        "\n",
        "array1 = np.concatenate([np.arange(0, 8).reshape(2, 4), np.arange(0, 8).reshape(2, 4)])\n",
        "array2 = np.arange(0, 4).reshape(4, 1)\n",
        "print(array1)\n",
        "print(array1 + array2)"
      ],
      "execution_count": null,
      "outputs": [
        {
          "output_type": "stream",
          "name": "stdout",
          "text": [
            "[[0 1 2 3]\n",
            " [4 5 6 7]\n",
            " [0 1 2 3]\n",
            " [4 5 6 7]]\n",
            "[[ 0  1  2  3]\n",
            " [ 5  6  7  8]\n",
            " [ 2  3  4  5]\n",
            " [ 7  8  9 10]]\n"
          ]
        }
      ]
    },
    {
      "cell_type": "code",
      "metadata": {
        "colab": {
          "base_uri": "https://localhost:8080/"
        },
        "id": "7Wlqd2dFvCtW",
        "outputId": "070966e2-63d4-472f-c27d-8e8b51ac5890"
      },
      "source": [
        "# 마스킹 연산: 각 원소에 대해 T/F 여부 체크\n",
        "# 원소의 값을 조건에 따라 바꿀수 있음\n",
        "array1 = np.arange(16).reshape(4, 4)\n",
        "print(array1)\n",
        "\n",
        "array2 = array1 < 10\n",
        "print(array2)\n",
        "\n",
        "array1[array2] = 100\n",
        "print(array1)"
      ],
      "execution_count": null,
      "outputs": [
        {
          "output_type": "stream",
          "name": "stdout",
          "text": [
            "[[ 0  1  2  3]\n",
            " [ 4  5  6  7]\n",
            " [ 8  9 10 11]\n",
            " [12 13 14 15]]\n",
            "[[ True  True  True  True]\n",
            " [ True  True  True  True]\n",
            " [ True  True False False]\n",
            " [False False False False]]\n",
            "[[100 100 100 100]\n",
            " [100 100 100 100]\n",
            " [100 100  10  11]\n",
            " [ 12  13  14  15]]\n"
          ]
        }
      ]
    },
    {
      "cell_type": "code",
      "metadata": {
        "colab": {
          "base_uri": "https://localhost:8080/"
        },
        "id": "uADRWRxDv9RN",
        "outputId": "1e7b5b2c-f025-46a9-d73f-5514950b9af4"
      },
      "source": [
        "# 집계 함수\n",
        "array = np.arange(16).reshape(4, 4)\n",
        "\n",
        "print(array)\n",
        "print(\"총 합계:\", np.sum(array))\n",
        "print(\"열 합계:\", np.sum(array, axis=0))\n",
        "print(\"행 합계:\", np.sum(array, axis=1))\n",
        "print(\"평균값:\", np.mean(array))\n",
        "print(\"최소값:\", np.min(array))\n",
        "print(\"최대값:\", np.max(array))"
      ],
      "execution_count": null,
      "outputs": [
        {
          "output_type": "stream",
          "name": "stdout",
          "text": [
            "[[ 0  1  2  3]\n",
            " [ 4  5  6  7]\n",
            " [ 8  9 10 11]\n",
            " [12 13 14 15]]\n",
            "총 합계: 120\n",
            "열 합계: [24 28 32 36]\n",
            "행 합계: [ 6 22 38 54]\n",
            "평균값: 7.5\n",
            "최소값: 0\n",
            "최대값: 15\n"
          ]
        }
      ]
    },
    {
      "cell_type": "markdown",
      "metadata": {
        "id": "vhf8xSN6S-TV"
      },
      "source": [
        "## 5강. Numpy의 활용\n",
        "- 저장, 불러오기: np.save, np.load\n",
        "- 정렬: array.sort\n",
        "- 함수\n",
        "  - np.linspace\n",
        "  - np.random.seed\n",
        "  - array.copy\n",
        "  - np.unique"
      ]
    },
    {
      "cell_type": "code",
      "metadata": {
        "colab": {
          "base_uri": "https://localhost:8080/"
        },
        "id": "-XglQhwmxv9E",
        "outputId": "aac16501-cf5b-41da-87b9-a848ce7fdaf7"
      },
      "source": [
        "# Numpy의 저장과 불러오기: 단일 객체(.npy)\n",
        "\n",
        "import numpy as np\n",
        "\n",
        "array = np.arange(0, 10)\n",
        "np.save('saved.npy', array)\n",
        "\n",
        "result = np.load('saved.npy')\n",
        "print(result)"
      ],
      "execution_count": null,
      "outputs": [
        {
          "output_type": "stream",
          "name": "stdout",
          "text": [
            "[0 1 2 3 4 5 6 7 8 9]\n"
          ]
        }
      ]
    },
    {
      "cell_type": "code",
      "metadata": {
        "colab": {
          "base_uri": "https://localhost:8080/"
        },
        "id": "5iwND-5Vz-Z7",
        "outputId": "89d43284-3e0c-40eb-d988-e3c44c07fa6c"
      },
      "source": [
        "# Numpy의 저장과 불러오기: 복수 객체(.npz)\n",
        "\n",
        "array1 = np.arange(0, 10)\n",
        "array2 = np.arange(10, 20)\n",
        "np.savez('saved.npz', array1=array1, array2=array2)\n",
        "\n",
        "data = np.load('saved.npz')\n",
        "result1 = data['array1']\n",
        "result2 = data['array2']\n",
        "print(result1)\n",
        "print(result2)"
      ],
      "execution_count": null,
      "outputs": [
        {
          "output_type": "stream",
          "name": "stdout",
          "text": [
            "[0 1 2 3 4 5 6 7 8 9]\n",
            "[10 11 12 13 14 15 16 17 18 19]\n"
          ]
        }
      ]
    },
    {
      "cell_type": "code",
      "metadata": {
        "colab": {
          "base_uri": "https://localhost:8080/"
        },
        "id": "sa5IR8h8zhro",
        "outputId": "757856d8-70c9-445d-9cb7-ab0ec7f67330"
      },
      "source": [
        "# Numpy 원소의 정렬\n",
        "\n",
        "# 오름차순 정렬\n",
        "array = np.array([5, 9, 10, 3, 1])\n",
        "array.sort()\n",
        "print(array)\n",
        "\n",
        "# 내림차순 정렬\n",
        "array = array[::-1]\n",
        "print(array)\n",
        "\n",
        "# 각 열을 기준으로 정렬\n",
        "array = np.array([[5, 9, 10, 3, 1], [8, 3, 4, 2, 5]])\n",
        "array.sort(axis=0)\n",
        "print(array)"
      ],
      "execution_count": null,
      "outputs": [
        {
          "output_type": "stream",
          "name": "stdout",
          "text": [
            "[ 1  3  5  9 10]\n",
            "[10  9  5  3  1]\n",
            "[[ 5  3  4  2  1]\n",
            " [ 8  9 10  3  5]]\n"
          ]
        }
      ]
    },
    {
      "cell_type": "code",
      "metadata": {
        "colab": {
          "base_uri": "https://localhost:8080/"
        },
        "id": "8aUeEbLN-K2t",
        "outputId": "74eeca62-9243-4831-d1ef-3357a12d5067"
      },
      "source": [
        "# Numpy 함수\n",
        "\n",
        "# 균일한 간격으로 데이터 생성: linspace\n",
        "array = np.linspace(0, 10, 5) # range start, end, 총 간격수\n",
        "print(array)\n",
        "\n",
        "# 랜덤 씨드 고정: np.random.seed\n",
        "np.random.seed(7)\n",
        "print(np.random.randint(0, 10, (2, 3)))\n",
        "\n",
        "# Numpy 배열 객체 복사: array.copy\n",
        "array1 = np.arange(0, 10)\n",
        "array2 = array1.copy()\n",
        "print(array2)\n",
        "\n",
        "# 중복된 원소 제거: np.unique\n",
        "array = np.array([1, 1, 2, 3, 3, 3, 1])\n",
        "print(np.unique(array))"
      ],
      "execution_count": null,
      "outputs": [
        {
          "output_type": "stream",
          "name": "stdout",
          "text": [
            "[ 0.   2.5  5.   7.5 10. ]\n",
            "[[4 9 6]\n",
            " [3 3 7]]\n",
            "[0 1 2 3 4 5 6 7 8 9]\n",
            "[1 2 3]\n"
          ]
        }
      ]
    }
  ]
}